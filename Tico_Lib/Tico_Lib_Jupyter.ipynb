{
 "cells": [
  {
   "cell_type": "markdown",
   "metadata": {},
   "source": [
    "# Testing"
   ]
  },
  {
   "cell_type": "markdown",
   "metadata": {},
   "source": [
    "#### Modules"
   ]
  },
  {
   "cell_type": "code",
   "execution_count": 1,
   "metadata": {},
   "outputs": [],
   "source": [
    "#import pyrtp.pwd as pwd\n",
    "import win32com.client\n",
    "from tkinter import filedialog\n",
    "import tkinter as tk\n",
    "import pandas as pd\n",
    "import os"
   ]
  },
  {
   "cell_type": "markdown",
   "metadata": {},
   "source": [
    "#### Import PW/Aux Files"
   ]
  },
  {
   "cell_type": "code",
   "execution_count": 2,
   "metadata": {},
   "outputs": [],
   "source": [
    "#pw_file = filedialog.askopenfilename(title=\"Select your PowerWorld case\", filetypes= [(\"PowerWorld files\", \"*.pwb\")])\n",
    "pw_file = '23SSWG_2030_SUM1_U1_Final_10092023_v220.pwb'"
   ]
  },
  {
   "cell_type": "markdown",
   "metadata": {},
   "source": [
    "#### COM Connection and open PW case"
   ]
  },
  {
   "cell_type": "code",
   "execution_count": 3,
   "metadata": {},
   "outputs": [
    {
     "data": {
      "text/plain": [
       "('OpenCase: Errors have occurred',)"
      ]
     },
     "execution_count": 3,
     "metadata": {},
     "output_type": "execute_result"
    }
   ],
   "source": [
    "simauto_obj = win32com.client.Dispatch('pwrworld.SimulatorAuto')\n",
    "simauto_obj.OpenCase(pw_file)"
   ]
  },
  {
   "cell_type": "markdown",
   "metadata": {},
   "source": [
    "# Functions"
   ]
  },
  {
   "cell_type": "markdown",
   "metadata": {},
   "source": [
    "#### Open PW Case"
   ]
  },
  {
   "cell_type": "code",
   "execution_count": 4,
   "metadata": {},
   "outputs": [],
   "source": [
    "def open_pw(pw_file):\n",
    "    # Create PowerWorld COM instance\n",
    "    simauto_obj = win32com.client.Dispatch('pwrworld.SimulatorAuto')\n",
    "    \n",
    "    # Open the PowerWorld case\n",
    "    simauto_obj.OpenCase(pw_file)\n",
    "    \n",
    "    print(f\"PowerWorld case '{os.path.basename(pw_file)}' opened successfully.\")\n",
    "    \n",
    "    return simauto_obj"
   ]
  },
  {
   "cell_type": "markdown",
   "metadata": {},
   "source": [
    "#### Close PW Case"
   ]
  },
  {
   "cell_type": "code",
   "execution_count": 5,
   "metadata": {},
   "outputs": [],
   "source": [
    "def close_pw(simauto_obj):\n",
    "    simauto_obj.CloseCase()\n",
    "    print(f\"PowerWorld case closed successfully.\")"
   ]
  },
  {
   "cell_type": "markdown",
   "metadata": {},
   "source": [
    "#### Select PW & Aux Cases"
   ]
  },
  {
   "cell_type": "code",
   "execution_count": 6,
   "metadata": {},
   "outputs": [],
   "source": [
    "def select_pw() -> str:\n",
    "    root = tk.Tk()\n",
    "    root.withdraw()  # Hide the root window\n",
    "    root.attributes('-topmost', True)  # Make the root window topmost\n",
    "    pw_file = filedialog.askopenfilename(title=\"Select PowerWorld File\", filetypes=[(\"PowerWorld Cases\", \"*.pwb\")])\n",
    "    root.attributes('-topmost', False)  # Reset the topmost attribute\n",
    "    root.destroy()  # Destroy the root window\n",
    "    return pw_file\n",
    "\n",
    "\n",
    "def select_aux() -> str:\n",
    "    root = tk.Tk()\n",
    "    root.withdraw()  # Hide the root window\n",
    "    root.attributes('-topmost', True)  # Make the root window topmost\n",
    "    aux_file = filedialog.askopenfilename(title=\"Select Auxiliary File\", filetypes=[(\"Auxiliary Files\", \"*.aux\")])\n",
    "    root.attributes('-topmost', False)  # Reset the topmost attribute\n",
    "    root.destroy()  # Destroy the root window\n",
    "    return aux_file\n",
    "\n",
    "\n",
    "def select_pw_aux_multiple() -> tuple:\n",
    "    root = tk.Tk()\n",
    "    root.withdraw()  # Hide the root window\n",
    "    root.attributes('-topmost', True)  # Make the root window topmost\n",
    "    pw_files = filedialog.askopenfilenames(title=\"Select PowerWorld Files\", filetypes=[(\"PowerWorld Cases\", \"*.pwb\")])\n",
    "    aux_files = filedialog.askopenfilenames(title=\"Select Aux Files\", filetypes=[(\"Auxiliary Files\", \"*.aux\")])\n",
    "    root.attributes('-topmost', False)  # Reset the topmost attribute\n",
    "    root.destroy()  # Destroy the root window\n",
    "    return pw_files, aux_files\n"
   ]
  },
  {
   "cell_type": "markdown",
   "metadata": {},
   "source": [
    "#### Use os.path to manipulate the path of pw file"
   ]
  },
  {
   "cell_type": "code",
   "execution_count": 7,
   "metadata": {},
   "outputs": [
    {
     "name": "stdout",
     "output_type": "stream",
     "text": [
      "23SSWG_2030_SUM1_U1_Final_10092023_v220.pwb\n",
      "Directory:  \n",
      "File Name: 23SSWG_2030_SUM1_U1_Final_10092023_v220.pwb \n",
      "Root: 23SSWG_2030_SUM1_U1_Final_10092023_v220 \n",
      "Extension: .pwb\n"
     ]
    }
   ],
   "source": [
    "def get_file_path_info(file: str) -> tuple:\n",
    "    directory = os.path.dirname(file)\n",
    "    file_name = os.path.basename(file)\n",
    "    root, ext = os.path.splitext(file)\n",
    "\n",
    "    return directory, file_name, root, ext\n",
    "\n",
    "directory, file_name, root, ext = get_file_path_info(pw_file)\n",
    "print(pw_file)\n",
    "print(f\"Directory: {directory} \\nFile Name: {file_name} \\nRoot: {root} \\nExtension: {ext}\")"
   ]
  },
  {
   "cell_type": "markdown",
   "metadata": {},
   "source": [
    "#### Aux File applicator"
   ]
  },
  {
   "cell_type": "code",
   "execution_count": 8,
   "metadata": {},
   "outputs": [],
   "source": [
    "def aux_file_applicator():\n",
    "\n",
    "    # Select PW cases and Aux files to be applied\n",
    "    pw_files, aux_files = select_pw_aux_multiple()\n",
    "\n",
    "    # Iterate over the PW cases and apply the aux files to each case\n",
    "    for case in pw_files:\n",
    "        directory, file_name, root, ext = get_file_path_info(case)\n",
    "        simauto_obj = open_pw(case)\n",
    "        # Iterate over the aux files to be applied. Will run Power Flow twice after applying each aux file\n",
    "        for aux in aux_files:\n",
    "            simauto_obj.RunScriptCommand(\"EnterMode(EDIT);\")\n",
    "            print(f\"Applying aux file: {os.path.basename(aux)}\")\n",
    "            simauto_obj.ProcessAuxFile(aux)\n",
    "            simauto_obj.RunScriptCommand(\"SolvePowerFlow\")\n",
    "            simauto_obj.RunScriptCommand(\"SolvePowerFlow\")\n",
    "        # Save the log\n",
    "        log = root + \"_log.txt\"\n",
    "        simauto_obj.RunScriptCommand(f'LogSave({log}, NO)')\n",
    "        print(f\"Saved log: {log}\")\n",
    "        # Save the case with the aux files\n",
    "        case_with_aux = root + \"_with_aux.PWB\"\n",
    "        simauto_obj.SaveCase(case_with_aux, \"PWB\", False)\n",
    "        print(f\"Saved case: {case_with_aux}\")\n",
    "        simauto_obj.CloseCase()\n",
    "\n",
    "#aux_file_applicator()"
   ]
  },
  {
   "cell_type": "markdown",
   "metadata": {},
   "source": [
    "#### Test"
   ]
  },
  {
   "cell_type": "code",
   "execution_count": null,
   "metadata": {},
   "outputs": [],
   "source": []
  },
  {
   "cell_type": "markdown",
   "metadata": {},
   "source": [
    "# SimAuto Documentation"
   ]
  },
  {
   "cell_type": "code",
   "execution_count": null,
   "metadata": {},
   "outputs": [],
   "source": []
  },
  {
   "cell_type": "markdown",
   "metadata": {},
   "source": [
    "# GitHub Commands"
   ]
  },
  {
   "cell_type": "markdown",
   "metadata": {},
   "source": []
  },
  {
   "cell_type": "markdown",
   "metadata": {},
   "source": [
    "# Miscellaneous"
   ]
  },
  {
   "cell_type": "markdown",
   "metadata": {},
   "source": [
    "#### Convert Jupyter notebook into python file using command prompt"
   ]
  },
  {
   "cell_type": "code",
   "execution_count": null,
   "metadata": {},
   "outputs": [],
   "source": [
    "#cd (path)\n",
    "#jupyter nbconvert --to script file.py"
   ]
  },
  {
   "cell_type": "markdown",
   "metadata": {},
   "source": [
    "#### Run jupyter notebook functions"
   ]
  },
  {
   "cell_type": "code",
   "execution_count": null,
   "metadata": {},
   "outputs": [],
   "source": [
    "#%run my_functions.ipynb"
   ]
  }
 ],
 "metadata": {
  "kernelspec": {
   "display_name": "Python 3",
   "language": "python",
   "name": "python3"
  },
  "language_info": {
   "codemirror_mode": {
    "name": "ipython",
    "version": 3
   },
   "file_extension": ".py",
   "mimetype": "text/x-python",
   "name": "python",
   "nbconvert_exporter": "python",
   "pygments_lexer": "ipython3",
   "version": "3.11.2"
  }
 },
 "nbformat": 4,
 "nbformat_minor": 2
}
